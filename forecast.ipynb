import pandas as pd

# Load the Excel file
excel_path = "/content/Book1.xlsx"
xls = pd.ExcelFile(excel_path)
df = pd.read_excel(excel_path)
# List all sheet names to locate the "Order List" sheet
sheet_names = xls.sheet_names

# Load the "Order List" sheet"
order_list_df = df

# Display the first few rows and data types for understanding
order_list_head = order_list_df.head()
order_list_info = order_list_df.dtypes

order_list_head, order_list_info, sheet_names

